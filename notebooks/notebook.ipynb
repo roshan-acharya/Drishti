{
 "cells": [
  {
   "cell_type": "code",
   "execution_count": 6,
   "id": "16076ae5",
   "metadata": {},
   "outputs": [],
   "source": [
    "import torch\n",
    "from torch.utils.data import Dataset,DataLoader\n",
    "from torchvision import transforms,datasets\n",
    "import torch.nn as nn\n",
    "import torch.optim as optim\n",
    "import torch.nn.functional as F"
   ]
  },
  {
   "cell_type": "code",
   "execution_count": 12,
   "id": "c3c75264",
   "metadata": {},
   "outputs": [
    {
     "name": "stdout",
     "output_type": "stream",
     "text": [
      "False\n"
     ]
    }
   ],
   "source": [
    "print(torch.cuda.is_available())"
   ]
  },
  {
   "cell_type": "code",
   "execution_count": 13,
   "id": "7a2cfa0c",
   "metadata": {},
   "outputs": [],
   "source": [
    "#Generator loblesh portion\n",
    "class CNN_Block(nn.Module):\n",
    "    def __init__(self,in_channels,out_channels,stride=2):\n",
    "        super().__init__()\n",
    "        self.conv=nn.Sequential(\n",
    "            nn.Conv2d(in_channels, out_channels,4,stride,bias=False,padding_mode='reflect'),\n",
    "            nn.BatchNorm2d(out_channels),\n",
    "            nn.LeakyReLU(0.2)\n",
    "        )"
   ]
  },
  {
   "cell_type": "code",
   "execution_count": 10,
   "id": "79b807e9",
   "metadata": {},
   "outputs": [],
   "source": [
    "#generator"
   ]
  },
  {
   "cell_type": "code",
   "execution_count": 11,
   "id": "207968b3",
   "metadata": {},
   "outputs": [],
   "source": [
    "#generator"
   ]
  },
  {
   "cell_type": "code",
   "execution_count": null,
   "id": "e1ae9edc",
   "metadata": {},
   "outputs": [],
   "source": [
    "#discriminator"
   ]
  },
  {
   "cell_type": "code",
   "execution_count": null,
   "id": "a8a3fa97",
   "metadata": {},
   "outputs": [],
   "source": [
    "#discriminator"
   ]
  }
 ],
 "metadata": {
  "kernelspec": {
   "display_name": "venv",
   "language": "python",
   "name": "python3"
  },
  "language_info": {
   "codemirror_mode": {
    "name": "ipython",
    "version": 3
   },
   "file_extension": ".py",
   "mimetype": "text/x-python",
   "name": "python",
   "nbconvert_exporter": "python",
   "pygments_lexer": "ipython3",
   "version": "3.13.7"
  }
 },
 "nbformat": 4,
 "nbformat_minor": 5
}
